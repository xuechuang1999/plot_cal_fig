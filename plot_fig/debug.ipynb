{
 "cells": [
  {
   "cell_type": "markdown",
   "metadata": {},
   "source": [
    "# Plot the PDOS\n",
    "\n",
    "Because the PDOS data is not sure have how many columns, we should consider different cases, such as:\n",
    "- spdDOS: 7 columns(including energy in the first column, and the rest are: s spin-up, s spin-down, p spin-up, p spin-down, d spin-up, d spin-down)\n",
    "- totalDOS: 3 columns(including energy in the first column, and the rest are: total spin-up, total spin-down)\n",
    "- PDOS: 19 columns(including energy in the first column, and the rest are: s spin-up, s spin-down, $p_x$ spin-up, $p_x$ spin-down, $p_y$ spin-up, $p_y$ spin-down, $p_z$ spin-up, $p_z$ spin-down, $d_{xy}$ spin-up, $d_{xy}$ spin-down, $d_{xz}$ spin-up, $d_{xz}$ spin-down, $d_{yz}$ spin-up, $d_{yz}$ spin-down, $d_{x^2-y^2}$ spin-up, $d_{x^2-y^2}$ spin-down, $d_{z^2}$ spin-up, $d_{z^2}$ spin-down)\n",
    "\n",
    "so we will give the user a choice to select the type of PDOS through specifying the parameter `--pdos_type` in the command line. The default value is `spdDOS`, and the user can choose `totalDOS` or `PDOS` as well. The user can also specify the energy range to plot through the parameters `--emin` and `--emax`. The default values are -10 eV and 10 eV, respectively.\n",
    "\n",
    "The user can also specify the output file name through the parameter `--output`. The default value is `pdos.png`."
   ]
  },
  {
   "cell_type": "code",
   "execution_count": null,
   "metadata": {},
   "outputs": [],
   "source": []
  }
 ],
 "metadata": {
  "language_info": {
   "name": "python"
  }
 },
 "nbformat": 4,
 "nbformat_minor": 2
}
